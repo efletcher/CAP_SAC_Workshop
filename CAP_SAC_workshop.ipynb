{
 "cells": [
  {
   "cell_type": "markdown",
   "metadata": {},
   "source": [
    "# CAP SAC Hackathon Workshop\n",
    "\n",
    "Intro to Python  \n",
    "by: Liz Fletcher\n",
    "\n",
    "-----\n",
    "\n",
    "#### Getting started"
   ]
  },
  {
   "cell_type": "markdown",
   "metadata": {},
   "source": [
    "Let's assign some variables"
   ]
  },
  {
   "cell_type": "code",
   "execution_count": 35,
   "metadata": {},
   "outputs": [],
   "source": [
    "var1 = 5\n",
    "var2 = 3.14"
   ]
  },
  {
   "cell_type": "markdown",
   "metadata": {},
   "source": [
    "We can do math to and with numbers and variables. The basic operations are:  \n",
    "\n",
    "    z = x + y  # addition\n",
    "    z = x - y  # subtraction\n",
    "    z = x * y  # multiplication\n",
    "    z = x / y  # division\n",
    "    z = x // y # integer division\n",
    "    z = x % y  # modulo (remainder)\n",
    "    z = - x    # negation\n",
    "    z = x ** y # exponentiation\n",
    "\n",
    "We can also compare numbers and variables:\n",
    "\n",
    "    x < y      # less than\n",
    "    x > y      # greater than\n",
    "    x <= y     # less than or equal to\n",
    "    x >= y     # greater than or equal to\n",
    "    x == y     # equal to\n",
    "    x != y     # not equal to"
   ]
  },
  {
   "cell_type": "code",
   "execution_count": 36,
   "metadata": {
    "scrolled": true
   },
   "outputs": [
    {
     "name": "stdout",
     "output_type": "stream",
     "text": [
      "8\n",
      "-6.28\n",
      "1.8599999999999999\n",
      "True\n",
      "False\n"
     ]
    }
   ],
   "source": [
    "print(5+3) # addition\n",
    "print(var2 * -2) # multiplication\n",
    "print(var1 - var2) # subtraction\n",
    "print(5 > 3) # comparison\n",
    "print(var2 == var1) # comparison"
   ]
  },
  {
   "cell_type": "markdown",
   "metadata": {},
   "source": [
    "Note for the third line we're seeing the impacts of using floats - since only 16 decimal places are stored, sometimes the last digit will be off. This is not just a python thing, but a universal occurrence when using floats across all languages. It should not affect your results in any meaningful way, but is something to be mindful of."
   ]
  },
  {
   "cell_type": "markdown",
   "metadata": {},
   "source": [
    "---\n",
    "Now, we'll import the numpy library which lets us array and matrix math. It also has lots of built in functions that might be useful for this problem"
   ]
  },
  {
   "cell_type": "code",
   "execution_count": 16,
   "metadata": {},
   "outputs": [],
   "source": [
    "import numpy as np # import numpy and rename to np"
   ]
  },
  {
   "cell_type": "markdown",
   "metadata": {},
   "source": [
    "Numpy has lots of operations, constants, and functions that might be useful for this problem:"
   ]
  },
  {
   "cell_type": "code",
   "execution_count": 42,
   "metadata": {},
   "outputs": [
    {
     "name": "stdout",
     "output_type": "stream",
     "text": [
      "5\n",
      "3.0\n",
      "-1.0\n",
      "1.5707963267948966\n",
      "20.085536923187668\n",
      "1.0\n"
     ]
    }
   ],
   "source": [
    "print(np.abs(-5)) # absolute value\n",
    "print(np.sqrt(9)) # square root\n",
    "print(np.cos(np.pi)) # cos (and pi)\n",
    "print(np.arcsin(1)) # arcsin\n",
    "print(np.exp(3)) # exponential\n",
    "print(np.log(np.e)) # natural logarithm (and e)"
   ]
  },
  {
   "cell_type": "markdown",
   "metadata": {},
   "source": [
    "We can also use numpy to build arrays. We can define them manually:"
   ]
  },
  {
   "cell_type": "code",
   "execution_count": 38,
   "metadata": {},
   "outputs": [
    {
     "name": "stdout",
     "output_type": "stream",
     "text": [
      "[ 1  2  3  4  5  6  7  8  9 10]\n"
     ]
    }
   ],
   "source": [
    "vec1 = np.array([1,2,3,4,5,6,7,8,9,10])\n",
    "print(vec1)"
   ]
  },
  {
   "cell_type": "markdown",
   "metadata": {},
   "source": [
    "Or use functions like linspace, which creates a linearly spaced vector  \n",
    "Syntax is (start, stop, number of elements)"
   ]
  },
  {
   "cell_type": "code",
   "execution_count": 39,
   "metadata": {},
   "outputs": [
    {
     "name": "stdout",
     "output_type": "stream",
     "text": [
      "[10.  9.  8.  7.  6.  5.  4.  3.  2.  1.]\n"
     ]
    }
   ],
   "source": [
    "vec2 = np.linspace(10,1,10)\n",
    "print(vec2)"
   ]
  },
  {
   "cell_type": "markdown",
   "metadata": {},
   "source": [
    "We can do math with these vectors in the same way we did above"
   ]
  },
  {
   "cell_type": "code",
   "execution_count": 40,
   "metadata": {},
   "outputs": [
    {
     "name": "stdout",
     "output_type": "stream",
     "text": [
      "[ 5 10 15 20 25 30 35 40 45 50]\n",
      "[11. 11. 11. 11. 11. 11. 11. 11. 11. 11.]\n"
     ]
    }
   ],
   "source": [
    "print(5*vec1) #'' multiply vec1 by 5\n",
    "print(vec1+vec2) # add vec1 and vec2"
   ]
  },
  {
   "cell_type": "markdown",
   "metadata": {},
   "source": [
    "We can access elements in the array and parts of the array  \n",
    "Note: Python starts indexing at 0"
   ]
  },
  {
   "cell_type": "code",
   "execution_count": 41,
   "metadata": {},
   "outputs": [
    {
     "name": "stdout",
     "output_type": "stream",
     "text": [
      "1\n",
      "10\n",
      "[3 4 5]\n",
      "[1 2 3 4]\n",
      "[ 9 10]\n"
     ]
    }
   ],
   "source": [
    "print(vec1[0]) # get the first element\n",
    "print(vec1[-1]) # get the last element\n",
    "print(vec1[2:5]) # get elements 2-4 (ignore last index)\n",
    "print(vec1[:4]) # get elements beginning to 3\n",
    "print(vec1[8:]) # get elements 8 to end"
   ]
  },
  {
   "cell_type": "markdown",
   "metadata": {},
   "source": [
    "Arrays can have more than one dimension (matrices)"
   ]
  },
  {
   "cell_type": "code",
   "execution_count": 43,
   "metadata": {},
   "outputs": [
    {
     "name": "stdout",
     "output_type": "stream",
     "text": [
      "[[1 2 3]\n",
      " [4 5 6]\n",
      " [7 8 9]]\n"
     ]
    }
   ],
   "source": [
    "mat1 = np.array([[1,2,3],[4,5,6],[7,8,9]])\n",
    "print(mat1)"
   ]
  },
  {
   "cell_type": "markdown",
   "metadata": {},
   "source": [
    "You can access the elements in the same way as above. Indexing can be a bit confusing, so be careful and double check that the index you're using is the one you're really looking for!"
   ]
  },
  {
   "cell_type": "code",
   "execution_count": 44,
   "metadata": {},
   "outputs": [
    {
     "name": "stdout",
     "output_type": "stream",
     "text": [
      "[1 2 3]\n",
      "[1 4 7]\n",
      "6\n"
     ]
    }
   ],
   "source": [
    "print(mat1[0]) # first row\n",
    "print(mat1[:,0]) # first column\n",
    "print(mat1[1,2]) # element (2,1)"
   ]
  },
  {
   "cell_type": "markdown",
   "metadata": {},
   "source": [
    "---\n",
    "#### Now for some more complex stuff"
   ]
  },
  {
   "cell_type": "markdown",
   "metadata": {},
   "source": [
    "Starting with a for loop. This will start with i=0 and increment by 1 until i=4, printing the value of i each time"
   ]
  },
  {
   "cell_type": "code",
   "execution_count": 45,
   "metadata": {},
   "outputs": [
    {
     "name": "stdout",
     "output_type": "stream",
     "text": [
      "0\n",
      "1\n",
      "2\n",
      "3\n",
      "4\n"
     ]
    }
   ],
   "source": [
    "for i in range(0,5):\n",
    "    print(i)"
   ]
  },
  {
   "cell_type": "markdown",
   "metadata": {},
   "source": [
    "Now, write a for loop with if/else statements:"
   ]
  },
  {
   "cell_type": "code",
   "execution_count": 46,
   "metadata": {},
   "outputs": [
    {
     "name": "stdout",
     "output_type": "stream",
     "text": [
      "Even\n",
      "Odd\n",
      "Even\n",
      "Odd\n",
      "Even\n"
     ]
    }
   ],
   "source": [
    "for i in range(0,5):\n",
    "    if i % 2 == 0:\n",
    "        print(\"Even\")\n",
    "    else:\n",
    "        print(\"Odd\")"
   ]
  },
  {
   "cell_type": "markdown",
   "metadata": {},
   "source": [
    "Now, write a while loop. This starts with i=0, prints the value of i, and increments i by 1 each time while i is less than 5. It accomplishes the same thing as the for loop above."
   ]
  },
  {
   "cell_type": "code",
   "execution_count": 47,
   "metadata": {},
   "outputs": [
    {
     "name": "stdout",
     "output_type": "stream",
     "text": [
      "0\n",
      "1\n",
      "2\n",
      "3\n",
      "4\n"
     ]
    }
   ],
   "source": [
    "i = 0\n",
    "while i < 5:\n",
    "    print(i)\n",
    "    i += 1"
   ]
  },
  {
   "cell_type": "markdown",
   "metadata": {},
   "source": [
    "---\n",
    "#### Functions  \n",
    "Let's get started with some functions. First, let's define a simple function that takes three inputs and adds them together."
   ]
  },
  {
   "cell_type": "code",
   "execution_count": 2,
   "metadata": {},
   "outputs": [],
   "source": [
    "def myFunction(p1,p2,p3): # function definition with three inputs\n",
    "    temp = p1+p2+p3       # add the three inputs together and store in temp\n",
    "    return temp           # return the value of temp as the function's output"
   ]
  },
  {
   "cell_type": "markdown",
   "metadata": {},
   "source": [
    "And test it out"
   ]
  },
  {
   "cell_type": "code",
   "execution_count": 3,
   "metadata": {},
   "outputs": [
    {
     "name": "stdout",
     "output_type": "stream",
     "text": [
      "6\n",
      "36\n"
     ]
    }
   ],
   "source": [
    "print(myFunction(1,2,3))\n",
    "print(myFunction(14,-1,23))"
   ]
  },
  {
   "cell_type": "markdown",
   "metadata": {},
   "source": [
    "---\n",
    "#### An example (adapted from https://pythonnumericalmethods.berkeley.edu/notebooks/Index.html)\n",
    "\n",
    "Now let's do something a bit more complicated - dealing with a differential equation.  \n",
    " \n",
    "We're going to set up the equation of motion of the angle of a pendulum acted on by gravity and friction:  \n",
    "$ \\frac{\\text{d}^2\\theta}{\\text{d}t^2} + \\alpha \\frac{\\text{d}\\theta}{\\text{d}t} + \\beta \\sin(\\theta(t)) = 0$\n",
    " \n",
    "Which can be converted to a system of first order equations:  \n",
    "$ \\frac{\\text{d}\\theta}{\\text{d}t} = \\omega(t) $  \n",
    "$ \\frac{\\text{d}\\omega}{\\text{d}t} = -\\alpha\\omega(t) - \\beta \\sin(\\theta(t)) $"
   ]
  },
  {
   "cell_type": "code",
   "execution_count": 50,
   "metadata": {},
   "outputs": [
    {
     "name": "stdout",
     "output_type": "stream",
     "text": [
      "[[ 3.          0.        ]\n",
      " [ 2.99561699 -0.08738733]\n",
      " [ 2.98248687 -0.17583717]\n",
      " [ 2.96023706 -0.27066442]\n",
      " [ 2.92796215 -0.37725826]\n",
      " [ 2.88420288 -0.50134688]]\n"
     ]
    }
   ],
   "source": [
    "# start by importing an ODE solver\n",
    "from scipy.integrate import odeint\n",
    "\n",
    "# now implement our equations of motion\n",
    "# here y is a vector of theta and omega\n",
    "def pend(y,t,alpha,beta):\n",
    "    theta, omega = y\n",
    "    dydt = [omega, -alpha*omega - beta*np.sin(theta)]\n",
    "    return dydt\n",
    "\n",
    "# set up our parameters and initial conditions\n",
    "alpha = 0.5\n",
    "beta = 2*np.pi\n",
    "y0 = np.array([3.0,0.0])\n",
    "t = np.linspace(0,10,101)\n",
    "\n",
    "# now solve using the ODE solver\n",
    "sol = odeint(pend,y0,t,args=(alpha,beta))\n",
    "# print the first few points\n",
    "print(sol[:6])"
   ]
  },
  {
   "cell_type": "markdown",
   "metadata": {},
   "source": [
    "The output here is a series of theta and omega values for each of our time points. Just looking at it is not very useful, so let's plot it! We will use the Pyplot plotting library."
   ]
  },
  {
   "cell_type": "code",
   "execution_count": 51,
   "metadata": {
    "scrolled": true
   },
   "outputs": [
    {
     "data": {
      "image/png": "[encoded data removed]",
      "text/plain": [
       "<Figure size 640x480 with 1 Axes>"
      ]
     },
     "metadata": {},
     "output_type": "display_data"
    }
   ],
   "source": [
    "import matplotlib.pyplot as plt\n",
    "\n",
    "# generate a new figure\n",
    "f1 = plt.figure()\n",
    "# plot theta(t) first\n",
    "plt.plot(t,sol[:,0],'-b',label=r'$\\theta(t)$') # theta is the first column, so access using [:,0]\n",
    "# then plot omega(t)\n",
    "plt.plot(t,sol[:,1],':r',label=r'$\\omega(t)$') # omega is the second column, so access using [:,1]\n",
    "# label our axes\n",
    "# if you define a string as r'[string]' you can use LaTeX symbols\n",
    "plt.xlabel(r'Time ($t$) / s')\n",
    "plt.ylabel(r'$\\theta(t)$ / rad AND $\\omega(t)$ / rad/s')\n",
    "# add a grid\n",
    "plt.grid()\n",
    "# and a legend\n",
    "plt.legend()\n",
    "# show the plot\n",
    "plt.show()"
   ]
  }
 ],
 "metadata": {
  "kernelspec": {
   "display_name": "Python 3 (ipykernel)",
   "language": "python",
   "name": "python3"
  },
  "language_info": {
   "codemirror_mode": {
    "name": "ipython",
    "version": 3
   },
   "file_extension": ".py",
   "mimetype": "text/x-python",
   "name": "python",
   "nbconvert_exporter": "python",
   "pygments_lexer": "ipython3",
   "version": "3.9.16"
  }
 },
 "nbformat": 4,
 "nbformat_minor": 2
}
